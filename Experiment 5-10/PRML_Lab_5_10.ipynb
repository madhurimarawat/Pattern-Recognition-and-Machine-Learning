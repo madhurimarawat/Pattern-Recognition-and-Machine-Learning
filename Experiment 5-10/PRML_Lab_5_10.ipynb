{
  "nbformat": 4,
  "nbformat_minor": 0,
  "metadata": {
    "colab": {
      "provenance": []
    },
    "kernelspec": {
      "name": "python3",
      "display_name": "Python 3"
    },
    "language_info": {
      "name": "python"
    }
  },
  "cells": [
    {
      "cell_type": "markdown",
      "source": [
        "## Experiment 5\n",
        "## Segment a customer dataset based on the buying behaviour of customers using K- means/Hierarchical clustering."
      ],
      "metadata": {
        "id": "abl7E-iGElhH"
      }
    },
    {
      "cell_type": "markdown",
      "source": [
        "**K-Means Clustering:**\n",
        "\n",
        "- **Objective**: Partition data into 'k' clusters to minimize the sum of squared distances (Euclidean distance) from data points to their cluster center.\n",
        "\n",
        "- **Algorithm**:\n",
        "  1. Initialize 'k' cluster centers randomly or using some heuristic.\n",
        "  2. Assign each data point to the nearest cluster center.\n",
        "  3. Recalculate the cluster centers as the mean of data points in each cluster.\n",
        "  4. Repeat steps 2 and 3 until convergence (centers no longer change significantly) or for a fixed number of iterations.\n",
        "\n",
        "- **Formula** (Euclidean Distance):\n",
        "  - The distance between a data point 'x' and a cluster center 'c' is calculated as:\n",
        "    - ` d(x, c) = sqrt(sum_{i=1}^{n} (x_i - c_i)^2) `\n",
        "     <br> where:\n",
        "    - `(d(x, c))` is the distance between point 'x' and center 'c'.\n",
        "    - `(x_i)` and `(c_i)` are the coordinates of 'x' and 'c' in the 'i'-th dimension.\n",
        "    - 'n' is the number of dimensions.\n",
        "\n",
        "- **Initialization Methods**: Common methods include random initialization and K-Means++ which aims for more even cluster initialization.\n",
        "\n",
        "- **Choosing 'k'**: The number of clusters 'k' is typically chosen using methods like the Elbow Method or the Silhouette Score.\n",
        "\n",
        "- **Convergence**: K-Means may converge to a local minimum. Running the algorithm multiple times with different initializations can mitigate this issue.\n",
        "\n",
        "- **Applications**: Used in various fields, including image compression, customer segmentation, and anomaly detection.\n",
        "\n",
        "- **Strengths**:\n",
        "  - Simplicity and efficiency.\n",
        "  - Works well with large datasets.\n",
        "  - Scalable to high dimensions.\n",
        "\n",
        "- **Limitations**:\n",
        "  - Sensitive to initializations.\n",
        "  - Assumes clusters are spherical and equally sized.\n",
        "  - May not perform well with non-globular clusters or varying cluster densities.\n",
        "\n",
        "- **Variants**: K-Means++, Mini-Batch K-Means, and Hierarchical K-Means are variations of the algorithm."
      ],
      "metadata": {
        "id": "482dYGNRXoiy"
      }
    },
    {
      "cell_type": "code",
      "source": [
        "# Importing Required Library\n",
        "import numpy as np\n",
        "import matplotlib.pyplot as plt\n",
        "import pandas as pd\n",
        "\n",
        "# Loading csv file\n",
        "df = pd.read_csv(\"/content/Mall_Customers.csv\")\n",
        "\n",
        "# Mapping Numerical Values\n",
        "df['Gender'] = df['Gender'].map({'Male' : 0, 'Female' : 1})\n",
        "\n",
        "# Printing Dataset\n",
        "print(\"Dataframe is:\\n\")\n",
        "print(df)"
      ],
      "metadata": {
        "colab": {
          "base_uri": "https://localhost:8080/"
        },
        "id": "yb3myfbo4Cc_",
        "outputId": "16c62101-83b4-4a4f-f1c6-66dbf408eb0b"
      },
      "execution_count": 2,
      "outputs": [
        {
          "output_type": "stream",
          "name": "stdout",
          "text": [
            "Dataframe is:\n",
            "\n",
            "     CustomerID  Gender  Age  Annual Income (k$)  Spending Score (1-100)\n",
            "0             1       0   19                  15                      39\n",
            "1             2       0   21                  15                      81\n",
            "2             3       1   20                  16                       6\n",
            "3             4       1   23                  16                      77\n",
            "4             5       1   31                  17                      40\n",
            "..          ...     ...  ...                 ...                     ...\n",
            "195         196       1   35                 120                      79\n",
            "196         197       1   45                 126                      28\n",
            "197         198       0   32                 126                      74\n",
            "198         199       0   32                 137                      18\n",
            "199         200       0   30                 137                      83\n",
            "\n",
            "[200 rows x 5 columns]\n"
          ]
        }
      ]
    },
    {
      "cell_type": "code",
      "source": [
        "# Seeing the Columns of Dataset\n",
        "df.columns"
      ],
      "metadata": {
        "colab": {
          "base_uri": "https://localhost:8080/"
        },
        "id": "uDl995ZX45VX",
        "outputId": "b4f99356-2a26-48e8-cf7b-653716fbbef9"
      },
      "execution_count": null,
      "outputs": [
        {
          "output_type": "execute_result",
          "data": {
            "text/plain": [
              "Index(['CustomerID', 'Gender', 'Age', 'Annual Income (k$)',\n",
              "       'Spending Score (1-100)'],\n",
              "      dtype='object')"
            ]
          },
          "metadata": {},
          "execution_count": 48
        }
      ]
    },
    {
      "cell_type": "markdown",
      "source": [
        "## Explanation Of The Code\n",
        "\n",
        "The provided code is an implementation of the k-means clustering algorithm in Python using NumPy. Here's a breakdown of the code:\n",
        "\n",
        "```python\n",
        "import numpy as np\n",
        "\n",
        "def k_means_clustering(data, k, max_iterations=100):\n",
        "    # Step 1: Initialize centroids randomly\n",
        "    centroids = data[np.random.choice(len(data), k, replace=False)]\n",
        "\n",
        "    # Iterate until convergence or maximum iterations\n",
        "    for _ in range(max_iterations):\n",
        "        # Step 2: Calculate distances from each point to centroids\n",
        "        distances = np.linalg.norm(data[:, np.newaxis] - centroids, axis=2)\n",
        "\n",
        "        # Step 3: Assign each point to the nearest centroid\n",
        "        labels = np.argmin(distances, axis=1)\n",
        "\n",
        "        # Step 4: Update centroids based on mean of assigned points\n",
        "        new_centroids = np.array([data[labels == i].mean(axis=0) for i in range(k)])\n",
        "\n",
        "        # Step 5: Check for convergence\n",
        "        if np.all(centroids == new_centroids):\n",
        "            break\n",
        "\n",
        "        # Update centroids for the next iteration\n",
        "        centroids = new_centroids\n",
        "\n",
        "    # Return final labels and centroids\n",
        "    return labels, centroids\n",
        "```\n",
        "\n",
        "Explanation:\n",
        "\n",
        "1. **Initialization of Centroids:** The algorithm starts by randomly selecting `k` data points as the initial centroids.\n",
        "\n",
        "2. **Iterations:** The main loop runs for a maximum number of iterations (`max_iterations`) or until convergence.\n",
        "\n",
        "3. **Calculate Distances:** It computes the Euclidean distances between each data point and all centroids.\n",
        "\n",
        "4. **Assign Labels:** Each data point is assigned to the cluster associated with the nearest centroid.\n",
        "\n",
        "5. **Update Centroids:** The centroids are updated by calculating the mean of the data points assigned to each cluster.\n",
        "\n",
        "6. **Convergence Check:** The algorithm checks if the centroids have changed. If not, the algorithm has converged, and the loop is terminated.\n",
        "\n",
        "7. **Return:** The function returns the final cluster labels and centroids.\n",
        "\n",
        "Note: The NumPy functions, such as `np.random.choice`, `np.linalg.norm`, and array slicing, are used to efficiently implement the algorithm. Make sure to have NumPy installed (`import numpy as np`). Additionally, it's common to scale or normalize your data before applying k-means to ensure meaningful cluster assignments."
      ],
      "metadata": {
        "id": "abSK4sryYjRy"
      }
    },
    {
      "cell_type": "markdown",
      "source": [
        "## **Numpy Functions Used**\n",
        "\n",
        "1. **`np.random.choice(len(data), k, replace=False)`**:\n",
        "   - This function randomly selects `k` unique indices from the range [0, len(data)).\n",
        "   - `len(data)` is the length of the data array, and `replace=False` ensures that the selected indices are unique, simulating the random selection of initial centroids.\n",
        "\n",
        "2. **`np.linalg.norm(data[:, np.newaxis] - centroids, axis=2)`**:\n",
        "   - `np.linalg.norm` is used to calculate the Euclidean norm (distance) between two points.\n",
        "   - `data[:, np.newaxis]` creates a new axis to broadcast the subtraction across all combinations of data points and centroids.\n",
        "   - `data[:, np.newaxis] - centroids` computes the differences between each data point and each centroid.\n",
        "   - `axis=2` specifies that the norm should be calculated along the axis representing the different centroids.\n",
        "\n",
        "3. **`np.argmin(distances, axis=1)`**:\n",
        "   - `np.argmin` returns the indices of the minimum values along a specified axis.\n",
        "   - `axis=1` indicates that the minimum values should be found along the axis corresponding to different centroids.\n",
        "   - This is used to assign each data point to the cluster with the nearest centroid.\n",
        "\n",
        "4. **`np.array([data[labels == i].mean(axis=0) for i in range(k)])`**:\n",
        "   - This line creates a new array containing the mean of the data points assigned to each cluster.\n",
        "   - It uses a list comprehension to iterate over each cluster (`i`) and calculates the mean along `axis=0` (columns) for the data points assigned to that cluster.\n",
        "\n",
        "5. **`np.all(centroids == new_centroids)`**:\n",
        "   - `np.all` checks if all elements in the array are equal.\n",
        "   - This is used to determine if the centroids have changed. If they haven't changed, the algorithm has converged, and the loop can be terminated.\n",
        "\n",
        "These NumPy functions are crucial for the efficiency and simplicity of the k-means algorithm implementation. NumPy allows for concise and vectorized operations, making the code more readable and computationally efficient."
      ],
      "metadata": {
        "id": "qd0jK7dqZePj"
      }
    },
    {
      "cell_type": "code",
      "source": [
        "# Defining Function for K means clustering\n",
        "def k_means_clustering(data, k, max_iterations=100):\n",
        "\n",
        "    centroids = data[np.random.choice(len(data), k, replace=False)]\n",
        "\n",
        "    for _ in range(max_iterations):\n",
        "\n",
        "        distances = np.linalg.norm(data[:, np.newaxis] - centroids, axis=2)\n",
        "\n",
        "        labels = np.argmin(distances, axis=1)\n",
        "\n",
        "        new_centroids = np.array([data[labels == i].mean(axis=0) for i in range(k)])\n",
        "\n",
        "        if np.all(centroids == new_centroids):\n",
        "            break\n",
        "\n",
        "        centroids = new_centroids\n",
        "\n",
        "    return labels, centroids\n",
        "\n",
        "# For Plotting Clusters\n",
        "def plot_clusters(data, labels, centroids):\n",
        "    plt.scatter(data[:, 0], data[:, 1], c=labels, cmap='viridis', alpha=0.5)\n",
        "    plt.scatter(centroids[:, 0], centroids[:, 1], marker='X', s=200, c='red')\n",
        "    plt.title(\"K-means Clustering on Customer Dataset\")\n",
        "    plt.ylabel(\"Spending Score (1-100)\")\n",
        "    plt.xlabel(\"Annual Income (k$)\")\n",
        "    plt.show()\n",
        "\n",
        "# Main Function\n",
        "def main():\n",
        "\n",
        "    # 'Age', 'Spending Score (1-100)', 'Gender' and 'Annual Income (k$)' are the columns to use\n",
        "    data = df[['Annual Income (k$)', 'Spending Score (1-100)', 'Gender', 'Age']].values\n",
        "\n",
        "    # Number of clusters\n",
        "    k = 3\n",
        "\n",
        "    # Perform K-means clustering\n",
        "    labels, centroids = k_means_clustering(data, k)\n",
        "\n",
        "    # Plot the clusters\n",
        "    plot_clusters(data, labels, centroids)\n",
        "\n",
        "if __name__ == \"__main__\":\n",
        "    main()"
      ],
      "metadata": {
        "colab": {
          "base_uri": "https://localhost:8080/",
          "height": 472
        },
        "id": "ngxsEyoKrjXR",
        "outputId": "605f50a0-4505-44d8-9df4-c361f486f457"
      },
      "execution_count": 3,
      "outputs": [
        {
          "output_type": "display_data",
          "data": {
            "text/plain": [
              "<Figure size 640x480 with 1 Axes>"
            ],
            "image/png": "[encoded data removed]"
          },
          "metadata": {}
        }
      ]
    },
    {
      "cell_type": "markdown",
      "source": [
        "## Experiment 6\n",
        "## Dimensionality reduction of any CSV/image dataset using Principal Component Analysis."
      ],
      "metadata": {
        "id": "n8hXePReEgDK"
      }
    },
    {
      "cell_type": "markdown",
      "source": [
        "Certainly! If you are creating a README file to describe Principal Component Analysis (PCA), you might want to provide an explanation of what PCA is, its applications, and perhaps how to use it in a data analysis context. Here's a template for a PCA README file:\n",
        "\n",
        "---\n",
        "\n",
        "# Principal Component Analysis (PCA)\n",
        "\n",
        "## Overview\n",
        "\n",
        "Principal Component Analysis (PCA) is a dimensionality reduction technique widely used in data analysis and machine learning. It helps transform high-dimensional data into a lower-dimensional space while retaining as much of the original variability as possible. By identifying the principal components, which are linear combinations of the original features, PCA can simplify complex datasets and facilitate data exploration.\n",
        "\n",
        "## Key Concepts\n",
        "\n",
        "- **Principal Components:** These are the new axes in the transformed space. They are ordered by the amount of variance they capture, with the first principal component capturing the most variance.\n",
        "\n",
        "- **Variance:** PCA aims to maximize variance along the principal components. This means that the first few components retain the most important information present in the original data.\n",
        "\n",
        "- **Eigenvalues and Eigenvectors:** PCA involves the computation of eigenvalues and eigenvectors of the covariance matrix of the original data. The eigenvectors represent the directions of maximum variance, and the corresponding eigenvalues indicate the magnitude of variance along those directions.\n",
        "\n",
        "## Applications\n",
        "\n",
        "- **Dimensionality Reduction:** PCA is commonly used to reduce the number of features in a dataset, making it easier to visualize and analyze.\n",
        "\n",
        "- **Noise Reduction:** By focusing on the principal components with the most significant variance, PCA can help mitigate the impact of noisy features in the data.\n",
        "\n",
        "- **Data Compression:** PCA can be used for data compression, particularly in scenarios where storage or computational resources are limited."
      ],
      "metadata": {
        "id": "43RvOo1kZr_v"
      }
    },
    {
      "cell_type": "code",
      "source": [
        "# Importing Required Libraries\n",
        "import pandas as pd\n",
        "from sklearn.decomposition import PCA\n",
        "import seaborn as sns\n",
        "import matplotlib.pyplot as plt\n",
        "from sklearn.preprocessing import LabelEncoder"
      ],
      "metadata": {
        "id": "DogHqbVB6PJR"
      },
      "execution_count": null,
      "outputs": []
    },
    {
      "cell_type": "markdown",
      "source": [
        "### Importing Dataset"
      ],
      "metadata": {
        "id": "3fQfBmiSaNjv"
      }
    },
    {
      "cell_type": "code",
      "source": [
        "df = pd.read_csv(\"/content/winequality-red.csv\")\n",
        "print(\"Dataset is:\\n\")\n",
        "print(df)"
      ],
      "metadata": {
        "colab": {
          "base_uri": "https://localhost:8080/"
        },
        "id": "2dUi0WyI7EEG",
        "outputId": "ce856392-50e6-4811-c542-5be2b95e0f6d"
      },
      "execution_count": null,
      "outputs": [
        {
          "output_type": "stream",
          "name": "stdout",
          "text": [
            "Dataset is:\n",
            "\n",
            "      fixed acidity  volatile acidity  citric acid  residual sugar  chlorides  \\\n",
            "0               7.4             0.700         0.00             1.9      0.076   \n",
            "1               7.8             0.880         0.00             2.6      0.098   \n",
            "2               7.8             0.760         0.04             2.3      0.092   \n",
            "3              11.2             0.280         0.56             1.9      0.075   \n",
            "4               7.4             0.700         0.00             1.9      0.076   \n",
            "...             ...               ...          ...             ...        ...   \n",
            "1594            6.2             0.600         0.08             2.0      0.090   \n",
            "1595            5.9             0.550         0.10             2.2      0.062   \n",
            "1596            6.3             0.510         0.13             2.3      0.076   \n",
            "1597            5.9             0.645         0.12             2.0      0.075   \n",
            "1598            6.0             0.310         0.47             3.6      0.067   \n",
            "\n",
            "      free sulfur dioxide  total sulfur dioxide  density    pH  sulphates  \\\n",
            "0                    11.0                  34.0  0.99780  3.51       0.56   \n",
            "1                    25.0                  67.0  0.99680  3.20       0.68   \n",
            "2                    15.0                  54.0  0.99700  3.26       0.65   \n",
            "3                    17.0                  60.0  0.99800  3.16       0.58   \n",
            "4                    11.0                  34.0  0.99780  3.51       0.56   \n",
            "...                   ...                   ...      ...   ...        ...   \n",
            "1594                 32.0                  44.0  0.99490  3.45       0.58   \n",
            "1595                 39.0                  51.0  0.99512  3.52       0.76   \n",
            "1596                 29.0                  40.0  0.99574  3.42       0.75   \n",
            "1597                 32.0                  44.0  0.99547  3.57       0.71   \n",
            "1598                 18.0                  42.0  0.99549  3.39       0.66   \n",
            "\n",
            "      alcohol  quality  \n",
            "0         9.4        5  \n",
            "1         9.8        5  \n",
            "2         9.8        5  \n",
            "3         9.8        6  \n",
            "4         9.4        5  \n",
            "...       ...      ...  \n",
            "1594     10.5        5  \n",
            "1595     11.2        6  \n",
            "1596     11.0        6  \n",
            "1597     10.2        5  \n",
            "1598     11.0        6  \n",
            "\n",
            "[1599 rows x 12 columns]\n"
          ]
        }
      ]
    },
    {
      "cell_type": "markdown",
      "source": [
        "## Applying PCA on Dataset"
      ],
      "metadata": {
        "id": "4FsylnufaSuM"
      }
    },
    {
      "cell_type": "code",
      "source": [
        "# Here we are storing pca function in a variable\n",
        "pca = PCA(n_components = 2)\n",
        "\n",
        "# Passing Dataframe to function\n",
        "pca_data = pca.fit(df).transform(df)\n",
        "\n",
        "print(\"Transformed Dataset is:\\n\")\n",
        "print(pca_data)"
      ],
      "metadata": {
        "colab": {
          "base_uri": "https://localhost:8080/"
        },
        "id": "iq1_9_3z7IVO",
        "outputId": "f799afb5-1e10-4ecf-fa17-73205132842e"
      },
      "execution_count": null,
      "outputs": [
        {
          "output_type": "stream",
          "name": "stdout",
          "text": [
            "Transformed Dataset is:\n",
            "\n",
            "[[-13.22202658  -2.03192212]\n",
            " [ 22.04025471   4.40179054]\n",
            " [  7.16536169  -2.50832073]\n",
            " ...\n",
            " [ -3.43293096  14.27427694]\n",
            " [  1.13557385  16.30769238]\n",
            " [ -3.87592057   3.13011173]]\n"
          ]
        }
      ]
    },
    {
      "cell_type": "markdown",
      "source": [
        "## Histogram Plot of Original Dataset"
      ],
      "metadata": {
        "id": "QVtpUTtFaZNG"
      }
    },
    {
      "cell_type": "code",
      "source": [
        "# Plotting Histogram of Dataset\n",
        "sns.histplot(df)\n",
        "# Adding x limit\n",
        "plt.xlim(0,30)\n",
        "# Adding title\n",
        "plt.title(\"Histogram Plot of Original Dataset\")\n",
        "# Adding Labels\n",
        "plt.xlabel(\"Columns\")\n",
        "plt.ylabel(\"Count of Values\")"
      ],
      "metadata": {
        "colab": {
          "base_uri": "https://localhost:8080/",
          "height": 489
        },
        "id": "4P33945-7K30",
        "outputId": "543789c5-8f2c-4e81-d5a5-0378d53eee14"
      },
      "execution_count": null,
      "outputs": [
        {
          "output_type": "execute_result",
          "data": {
            "text/plain": [
              "Text(0, 0.5, 'Count of Values')"
            ]
          },
          "metadata": {},
          "execution_count": 15
        },
        {
          "output_type": "display_data",
          "data": {
            "text/plain": [
              "<Figure size 640x480 with 1 Axes>"
            ],
            "image/png": "[encoded data removed]"
          },
          "metadata": {}
        }
      ]
    },
    {
      "cell_type": "markdown",
      "source": [
        "## Histogram Plot of Transformed Dataset"
      ],
      "metadata": {
        "id": "QkCK3RTRafnS"
      }
    },
    {
      "cell_type": "code",
      "source": [
        "# Plot histograms for both columns\n",
        "# In the previous histogram it was showing one additional plot to remove that we will plot both columns separately\n",
        "# It will also make it easier to recognize\n",
        "sns.histplot(data=pca_data, x=pca_data[:,0], label=\"Principal Component 1\")\n",
        "sns.histplot(data=pca_data, x=pca_data[:,1], label=\"Principal Component 2\")\n",
        "\n",
        "# Adding x limit\n",
        "plt.xlim(-50,125)\n",
        "\n",
        "# Adding title\n",
        "plt.title(\"Histogram Plot of Transformed Dataset\")\n",
        "# Adding Labels\n",
        "plt.xlabel(\"Columns\")\n",
        "plt.ylabel(\"Count of Values\")\n",
        "\n",
        "# Show legend\n",
        "plt.legend()"
      ],
      "metadata": {
        "colab": {
          "base_uri": "https://localhost:8080/",
          "height": 489
        },
        "id": "IrT3fOmc7PxE",
        "outputId": "c064fb77-7ca4-4553-d3d9-3c3027522b72"
      },
      "execution_count": null,
      "outputs": [
        {
          "output_type": "execute_result",
          "data": {
            "text/plain": [
              "<matplotlib.legend.Legend at 0x7a15e721d120>"
            ]
          },
          "metadata": {},
          "execution_count": 52
        },
        {
          "output_type": "display_data",
          "data": {
            "text/plain": [
              "<Figure size 640x480 with 1 Axes>"
            ],
            "image/png": "[encoded data removed]"
          },
          "metadata": {}
        }
      ]
    },
    {
      "cell_type": "markdown",
      "source": [
        "## Experiment 7\n",
        "## Recognition of MNIST handwritten digits using Artificial Neural Network.\n"
      ],
      "metadata": {
        "id": "R-bfXuuwa4sy"
      }
    },
    {
      "cell_type": "code",
      "source": [
        "!pip install keras.utils"
      ],
      "metadata": {
        "colab": {
          "base_uri": "https://localhost:8080/"
        },
        "id": "8FZn2NpV8pTf",
        "outputId": "0143b5a5-3506-400d-f68a-648e80b7430d"
      },
      "execution_count": null,
      "outputs": [
        {
          "output_type": "stream",
          "name": "stdout",
          "text": [
            "Collecting keras.utils\n",
            "  Downloading keras-utils-1.0.13.tar.gz (2.4 kB)\n",
            "  Preparing metadata (setup.py) ... \u001b[?25l\u001b[?25hdone\n",
            "Requirement already satisfied: Keras>=2.1.5 in /usr/local/lib/python3.10/dist-packages (from keras.utils) (2.15.0)\n",
            "Building wheels for collected packages: keras.utils\n",
            "  Building wheel for keras.utils (setup.py) ... \u001b[?25l\u001b[?25hdone\n",
            "  Created wheel for keras.utils: filename=keras_utils-1.0.13-py3-none-any.whl size=2631 sha256=d68f0777cefdf984a518ef4e04ca271e9b3072acaee8cb338ca48d8a7bba4d7b\n",
            "  Stored in directory: /root/.cache/pip/wheels/5c/c0/b3/0c332de4fd71f3733ea6d61697464b7ae4b2b5ff0300e6ca7a\n",
            "Successfully built keras.utils\n",
            "Installing collected packages: keras.utils\n",
            "Successfully installed keras.utils-1.0.13\n"
          ]
        }
      ]
    },
    {
      "cell_type": "markdown",
      "source": [
        "## Explanation Of The Code\n",
        "\n",
        "Certainly! This code is an implementation of a simple neural network using the Keras library for the MNIST dataset. Let's go through the code step by step:\n",
        "\n",
        "### Loading and Preprocessing Data\n",
        "```python\n",
        "from tensorflow.keras.utils import to_categorical\n",
        "from keras.datasets import mnist\n",
        "from keras.models import Sequential\n",
        "from keras.layers import Dense\n",
        "\n",
        "# Load MNIST dataset\n",
        "(X_train, y_train), (X_test, y_test) = mnist.load_data()\n",
        "\n",
        "# Select a subset of the data\n",
        "X_train, y_train = X_train[:80], y_train[:80]\n",
        "X_test, y_test = X_test[:20], y_test[:20]\n",
        "\n",
        "# Flatten 28*28 images to a 784 vector for each image\n",
        "num_pixels = X_train.shape[1] * X_train.shape[2]\n",
        "X_train = X_train.reshape((X_train.shape[0], num_pixels)).astype('float32')\n",
        "X_test = X_test.reshape((X_test.shape[0], num_pixels)).astype('float32')\n",
        "\n",
        "# Normalize inputs from 0-255 to 0-1\n",
        "X_train = X_train / 255\n",
        "X_test = X_test / 255\n",
        "\n",
        "# One hot encode outputs\n",
        "y_train = to_categorical(y_train)\n",
        "y_test = to_categorical(y_test)\n",
        "num_classes = y_test.shape[1]\n",
        "```\n",
        "\n",
        "Explanation:\n",
        "- The MNIST dataset is loaded, consisting of 28x28 pixel grayscale images of handwritten digits.\n",
        "- A subset of the data is selected (80 training samples and 20 test samples) for faster execution in this example.\n",
        "- Images are flattened to 1D arrays (784 elements) and normalized to the range [0, 1].\n",
        "- Labels are one-hot encoded using `to_categorical`.\n",
        "\n",
        "### Building the Neural Network Model\n",
        "```python\n",
        "# Define the model\n",
        "def baseline_model():\n",
        "    model = Sequential()\n",
        "    model.add(Dense(num_pixels, input_dim=num_pixels, kernel_initializer='normal', activation='relu'))\n",
        "    model.add(Dense(num_classes, kernel_initializer='normal', activation='softmax'))\n",
        "    model.compile(loss='categorical_crossentropy', optimizer='adam', metrics=['accuracy'])\n",
        "    return model\n",
        "\n",
        "# Build the model\n",
        "model = baseline_model()\n",
        "```\n",
        "\n",
        "Explanation:\n",
        "- The neural network model is defined using Keras's `Sequential` model.\n",
        "- It consists of two layers: a dense layer with ReLU activation for the input, and a dense layer with softmax activation for the output.\n",
        "- The model is compiled with categorical crossentropy loss, the Adam optimizer, and accuracy as the metric.\n",
        "\n",
        "### Training the Model\n",
        "```python\n",
        "# Fit the model\n",
        "model.fit(X_train, y_train, validation_data=(X_test, y_test), epochs=10, batch_size=200, verbose=2)\n",
        "```\n",
        "\n",
        "Explanation:\n",
        "- The model is trained using the training data (`X_train`, `y_train`) and validated on the test data (`X_test`, `y_test`).\n",
        "- The training is performed for 10 epochs with a batch size of 200.\n",
        "\n",
        "### Evaluating the Model\n",
        "```python\n",
        "# Final evaluation of the model\n",
        "scores = model.evaluate(X_test, y_test, verbose=0)\n",
        "print(\"Baseline Error: %.2f%%\" % (100 - scores[1] * 100))\n",
        "```\n",
        "\n",
        "Explanation:\n",
        "- The trained model is evaluated on the test data, and the final accuracy is printed.\n",
        "\n",
        "### Model Evaluation Metrics\n",
        "```python\n",
        "from sklearn.metrics import confusion_matrix, accuracy_score, classification_report\n",
        "\n",
        "# Predict the values from the validation dataset\n",
        "y_pred = model.predict(X_test)\n",
        "# Convert predictions classes to one hot vectors\n",
        "y_pred_classes = np.argmax(y_pred, axis=1)\n",
        "# Convert validation observations to one hot vectors\n",
        "y_true = np.argmax(y_test, axis=1)\n",
        "\n",
        "# compute the confusion matrix\n",
        "confusion_mtx = confusion_matrix(y_true, y_pred_classes)\n",
        "print(\"Confusion Matrix:\\n\", confusion_mtx)\n",
        "\n",
        "# compute accuracy\n",
        "acc = accuracy_score(y_true, y_pred_classes)\n",
        "print(\"\\nAccuracy: %.2f%%\" % (acc * 100))\n",
        "\n",
        "# compute classification report\n",
        "report = classification_report(y_true, y_pred_classes)\n",
        "print(\"\\nClassification Report:\\n\", report)\n",
        "```\n",
        "\n",
        "Explanation:\n",
        "- The model predictions (`y_pred`) are converted from one-hot encoded vectors to class labels.\n",
        "- Confusion matrix, accuracy, and a classification report are computed using scikit-learn metrics.\n",
        "\n",
        "This code essentially demonstrates how to build, train, and evaluate a simple neural network for digit classification using the MNIST dataset. It also shows how to use common metrics to assess the performance of the model."
      ],
      "metadata": {
        "id": "IGcHIVHLbPaS"
      }
    },
    {
      "cell_type": "markdown",
      "source": [
        "## Specific functions and Arguments\n",
        "\n",
        "### 1. `to_categorical` function\n",
        "```python\n",
        "from tensorflow.keras.utils import to_categorical\n",
        "\n",
        "# One hot encode outputs\n",
        "y_train = to_categorical(y_train)\n",
        "y_test = to_categorical(y_test)\n",
        "```\n",
        "\n",
        "**Explanation:**\n",
        "- `to_categorical` is a function from the Keras utilities module (`keras.utils`) that converts class vectors (integers) to binary class matrices (one-hot encoded vectors).\n",
        "- In this case, it's used to convert the integer labels `y_train` and `y_test` into one-hot encoded format. For example, if a digit is represented as `3`, after `to_categorical`, it will be represented as `[0, 0, 0, 1, 0, 0, 0, 0, 0, 0]`.\n",
        "\n",
        "### 2. `Sequential` model and `Dense` layers\n",
        "```python\n",
        "from keras.models import Sequential\n",
        "from keras.layers import Dense\n",
        "\n",
        "# Define the model\n",
        "def baseline_model():\n",
        "    model = Sequential()\n",
        "    model.add(Dense(num_pixels, input_dim=num_pixels, kernel_initializer='normal', activation='relu'))\n",
        "    model.add(Dense(num_classes, kernel_initializer='normal', activation='softmax'))\n",
        "    model.compile(loss='categorical_crossentropy', optimizer='adam', metrics=['accuracy'])\n",
        "    return model\n",
        "```\n",
        "\n",
        "**Explanation:**\n",
        "- `Sequential`: It's the Keras sequential model, allowing you to build models layer by layer in a step-by-step fashion.\n",
        "- `Dense`: It's a fully connected layer in the neural network. Each neuron in one layer is connected to every neuron in the next layer.\n",
        "- The first `Dense` layer has `num_pixels` neurons, uses the ReLU activation function, and takes an input of size `num_pixels`. It is initialized with a normal distribution of weights (`kernel_initializer='normal'`).\n",
        "- The second `Dense` layer has `num_classes` neurons (equal to the number of classes in the output), uses the softmax activation function, and is also initialized with a normal distribution of weights.\n",
        "- The model is compiled with categorical crossentropy as the loss function, the Adam optimizer (`'adam'`), and accuracy as the metric to monitor during training.\n",
        "\n",
        "### 3. `model.fit` function\n",
        "```python\n",
        "# Fit the model\n",
        "model.fit(X_train, y_train, validation_data=(X_test, y_test), epochs=10, batch_size=200, verbose=2)\n",
        "```\n",
        "\n",
        "**Explanation:**\n",
        "- `model.fit`: This function is used to train the model on the provided training data.\n",
        "- `X_train` and `y_train` are the training data and labels, respectively.\n",
        "- `validation_data=(X_test, y_test)`: The validation data on which to evaluate the loss and any model metrics at the end of each epoch.\n",
        "- `epochs=10`: The number of epochs (passes through the entire dataset) to train the model.\n",
        "- `batch_size=200`: The number of samples per gradient update. This is the number of training examples utilized in one iteration.\n",
        "- `verbose=2`: It controls the verbosity during training. `verbose=2` means it will print one line per epoch.\n",
        "\n",
        "### 4. `model.evaluate` function\n",
        "```python\n",
        "# Final evaluation of the model\n",
        "scores = model.evaluate(X_test, y_test, verbose=0)\n",
        "print(\"Baseline Error: %.2f%%\" % (100 - scores[1] * 100))\n",
        "```\n",
        "\n",
        "**Explanation:**\n",
        "- `model.evaluate`: This function is used to evaluate the model on the provided test data.\n",
        "- `X_test` and `y_test` are the test data and labels, respectively.\n",
        "- The `scores` variable holds the values of the loss and metrics (in this case, accuracy) on the test data.\n",
        "- The accuracy is then printed as the baseline error.\n",
        "\n",
        "### 5. Model Prediction and Evaluation Metrics\n",
        "```python\n",
        "# Predict the values from the validation dataset\n",
        "y_pred = model.predict(X_test)\n",
        "# Convert predictions classes to one hot vectors\n",
        "y_pred_classes = np.argmax(y_pred, axis=1)\n",
        "# Convert validation observations to one hot vectors\n",
        "y_true = np.argmax(y_test, axis=1)\n",
        "\n",
        "# compute the confusion matrix\n",
        "confusion_mtx = confusion_matrix(y_true, y_pred_classes)\n",
        "print(\"Confusion Matrix:\\n\", confusion_mtx)\n",
        "\n",
        "# compute accuracy\n",
        "acc = accuracy_score(y_true, y_pred_classes)\n",
        "print(\"\\nAccuracy: %.2f%%\" % (acc * 100))\n",
        "\n",
        "# compute classification report\n",
        "report = classification_report(y_true, y_pred_classes)\n",
        "print(\"\\nClassification Report:\\n\", report)\n",
        "```\n",
        "\n",
        "**Explanation:**\n",
        "- `model.predict`: This function is used to predict the class probabilities for the given test data (`X_test`).\n",
        "- `np.argmax(y_pred, axis=1)`: It converts the predicted probabilities to class labels by selecting the index of the maximum probability along each row.\n",
        "- `confusion_matrix`, `accuracy_score`, and `classification_report` from scikit-learn are then used to compute and print the confusion matrix, accuracy, and a detailed classification report.\n",
        "\n",
        "These functions and arguments are essential components for building, training, and evaluating neural network models using Keras and scikit-learn. They help make the process more convenient and efficient."
      ],
      "metadata": {
        "id": "QLrc0VvvbqWE"
      }
    },
    {
      "cell_type": "code",
      "source": [
        "from tensorflow.keras.utils import to_categorical\n",
        "\n",
        "# Import necessary libraries\n",
        "from keras.datasets import mnist\n",
        "from keras.models import Sequential\n",
        "from keras.layers import Dense\n",
        "from tensorflow.keras.utils import to_categorical\n",
        "\n",
        "# Load MNIST dataset\n",
        "(X_train, y_train), (X_test, y_test) = mnist.load_data()\n",
        "\n",
        "# Select a subset of the data\n",
        "X_train, y_train = X_train[:80], y_train[:80]\n",
        "X_test, y_test = X_test[:20], y_test[:20]\n",
        "\n",
        "# Flatten 28*28 images to a 784 vector for each image\n",
        "num_pixels = X_train.shape[1] * X_train.shape[2]\n",
        "X_train = X_train.reshape((X_train.shape[0], num_pixels)).astype('float32')\n",
        "X_test = X_test.reshape((X_test.shape[0], num_pixels)).astype('float32')\n",
        "\n",
        "# Normalize inputs from 0-255 to 0-1\n",
        "X_train = X_train / 255\n",
        "X_test = X_test / 255\n",
        "\n",
        "# One hot encode outputs\n",
        "y_train = to_categorical(y_train)\n",
        "y_test = to_categorical(y_test)\n",
        "num_classes = y_test.shape[1]\n",
        "\n",
        "# Define the model\n",
        "def baseline_model():\n",
        "    model = Sequential()\n",
        "    model.add(Dense(num_pixels, input_dim=num_pixels, kernel_initializer='normal', activation='relu'))\n",
        "    model.add(Dense(num_classes, kernel_initializer='normal', activation='softmax'))\n",
        "    model.compile(loss='categorical_crossentropy', optimizer='adam', metrics=['accuracy'])\n",
        "    return model\n",
        "\n",
        "# Build the model\n",
        "model = baseline_model()\n",
        "\n",
        "# Fit the model\n",
        "model.fit(X_train, y_train, validation_data=(X_test, y_test), epochs=10, batch_size=200, verbose=2)\n",
        "\n",
        "# Final evaluation of the model\n",
        "scores = model.evaluate(X_test, y_test, verbose=0)\n",
        "print(\"Baseline Error: %.2f%%\" % (100-scores[1]*100))\n",
        "\n",
        "from sklearn.metrics import confusion_matrix, accuracy_score, classification_report\n",
        "\n",
        "# Predict the values from the validation dataset\n",
        "y_pred = model.predict(X_test)\n",
        "# Convert predictions classes to one hot vectors\n",
        "y_pred_classes = np.argmax(y_pred, axis = 1)\n",
        "# Convert validation observations to one hot vectors\n",
        "y_true = np.argmax(y_test, axis = 1)\n",
        "\n",
        "# compute the confusion matrix\n",
        "confusion_mtx = confusion_matrix(y_true, y_pred_classes)\n",
        "print(\"Confusion Matrix:\\n\", confusion_mtx)\n",
        "\n",
        "# compute accuracy\n",
        "acc = accuracy_score(y_true, y_pred_classes)\n",
        "print(\"\\nAccuracy: %.2f%%\" % (acc * 100))\n",
        "\n",
        "# compute classification report\n",
        "report = classification_report(y_true, y_pred_classes)\n",
        "print(\"\\nClassification Report:\\n\", report)"
      ],
      "metadata": {
        "colab": {
          "base_uri": "https://localhost:8080/"
        },
        "id": "XmKFLeCH832M",
        "outputId": "6bd031ba-d47f-44c9-bd14-4f9f97101e12"
      },
      "execution_count": null,
      "outputs": [
        {
          "output_type": "stream",
          "name": "stdout",
          "text": [
            "Epoch 1/10\n",
            "1/1 - 2s - loss: 2.3893 - accuracy: 0.1250 - val_loss: 2.1642 - val_accuracy: 0.1500 - 2s/epoch - 2s/step\n",
            "Epoch 2/10\n",
            "1/1 - 0s - loss: 1.8532 - accuracy: 0.5000 - val_loss: 1.9126 - val_accuracy: 0.5000 - 95ms/epoch - 95ms/step\n",
            "Epoch 3/10\n",
            "1/1 - 0s - loss: 1.4678 - accuracy: 0.7125 - val_loss: 1.7283 - val_accuracy: 0.5000 - 102ms/epoch - 102ms/step\n",
            "Epoch 4/10\n",
            "1/1 - 0s - loss: 1.1701 - accuracy: 0.7875 - val_loss: 1.5786 - val_accuracy: 0.6000 - 109ms/epoch - 109ms/step\n",
            "Epoch 5/10\n",
            "1/1 - 0s - loss: 0.9203 - accuracy: 0.8625 - val_loss: 1.4552 - val_accuracy: 0.7000 - 98ms/epoch - 98ms/step\n",
            "Epoch 6/10\n",
            "1/1 - 0s - loss: 0.7132 - accuracy: 0.9250 - val_loss: 1.3586 - val_accuracy: 0.7000 - 70ms/epoch - 70ms/step\n",
            "Epoch 7/10\n",
            "1/1 - 0s - loss: 0.5470 - accuracy: 0.9875 - val_loss: 1.2862 - val_accuracy: 0.7000 - 93ms/epoch - 93ms/step\n",
            "Epoch 8/10\n",
            "1/1 - 0s - loss: 0.4172 - accuracy: 0.9875 - val_loss: 1.2357 - val_accuracy: 0.7000 - 139ms/epoch - 139ms/step\n",
            "Epoch 9/10\n",
            "1/1 - 0s - loss: 0.3186 - accuracy: 0.9875 - val_loss: 1.1998 - val_accuracy: 0.6500 - 84ms/epoch - 84ms/step\n",
            "Epoch 10/10\n",
            "1/1 - 0s - loss: 0.2439 - accuracy: 0.9875 - val_loss: 1.1722 - val_accuracy: 0.6500 - 89ms/epoch - 89ms/step\n",
            "Baseline Error: 35.00%\n",
            "1/1 [==============================] - 0s 207ms/step\n",
            "Confusion Matrix:\n",
            " [[3 0 0 0 0 0 0 0 0]\n",
            " [0 3 0 0 0 0 0 0 0]\n",
            " [0 0 1 0 0 0 0 0 0]\n",
            " [0 0 1 0 0 0 0 0 0]\n",
            " [0 0 0 0 2 0 0 0 1]\n",
            " [0 0 0 1 1 0 0 0 0]\n",
            " [0 0 0 0 1 0 0 0 0]\n",
            " [0 0 0 0 0 0 0 2 0]\n",
            " [0 0 0 0 2 0 0 0 2]]\n",
            "\n",
            "Accuracy: 65.00%\n",
            "\n",
            "Classification Report:\n",
            "               precision    recall  f1-score   support\n",
            "\n",
            "           0       1.00      1.00      1.00         3\n",
            "           1       1.00      1.00      1.00         3\n",
            "           2       0.50      1.00      0.67         1\n",
            "           3       0.00      0.00      0.00         1\n",
            "           4       0.33      0.67      0.44         3\n",
            "           5       0.00      0.00      0.00         2\n",
            "           6       0.00      0.00      0.00         1\n",
            "           7       1.00      1.00      1.00         2\n",
            "           9       0.67      0.50      0.57         4\n",
            "\n",
            "    accuracy                           0.65        20\n",
            "   macro avg       0.50      0.57      0.52        20\n",
            "weighted avg       0.61      0.65      0.61        20\n",
            "\n"
          ]
        },
        {
          "output_type": "stream",
          "name": "stderr",
          "text": [
            "/usr/local/lib/python3.10/dist-packages/sklearn/metrics/_classification.py:1344: UndefinedMetricWarning: Precision and F-score are ill-defined and being set to 0.0 in labels with no predicted samples. Use `zero_division` parameter to control this behavior.\n",
            "  _warn_prf(average, modifier, msg_start, len(result))\n",
            "/usr/local/lib/python3.10/dist-packages/sklearn/metrics/_classification.py:1344: UndefinedMetricWarning: Precision and F-score are ill-defined and being set to 0.0 in labels with no predicted samples. Use `zero_division` parameter to control this behavior.\n",
            "  _warn_prf(average, modifier, msg_start, len(result))\n",
            "/usr/local/lib/python3.10/dist-packages/sklearn/metrics/_classification.py:1344: UndefinedMetricWarning: Precision and F-score are ill-defined and being set to 0.0 in labels with no predicted samples. Use `zero_division` parameter to control this behavior.\n",
            "  _warn_prf(average, modifier, msg_start, len(result))\n"
          ]
        }
      ]
    },
    {
      "cell_type": "markdown",
      "source": [
        "## Experiment 8\n",
        "## Build an Email Spam Classifier Using SVM.\n",
        "\n",
        "## **Support Vector Machines (SVM)**\n",
        "\n",
        "## Overview\n",
        "\n",
        "Support Vector Machines (SVM) is a powerful supervised machine learning algorithm used for classification and regression tasks. SVM works by finding the hyperplane that best separates the data into different classes while maximizing the margin between the classes.\n",
        "\n",
        "## Key Concepts\n",
        "\n",
        "- **Hyperplane:** In SVM, a hyperplane is a decision boundary that separates data into different classes. SVM aims to find the hyperplane with the maximum margin between classes.\n",
        "\n",
        "- **Support Vectors:** These are the data points that lie closest to the decision boundary (hyperplane). They play a crucial role in determining the optimal hyperplane.\n",
        "\n",
        "- **Kernel Trick:** SVM can efficiently handle non-linear decision boundaries by mapping the input data into a higher-dimensional space using kernel functions.\n",
        "\n",
        "## Applications\n",
        "\n",
        "- **Classification:** SVM is widely used for binary and multiclass classification problems.\n",
        "\n",
        "- **Regression:** SVM can be applied to regression tasks by predicting a continuous output.\n",
        "\n",
        "- **Outlier Detection:** SVM can identify outliers by considering the data points that do not conform to the overall pattern."
      ],
      "metadata": {
        "id": "i1Obv9IvEOae"
      }
    },
    {
      "cell_type": "code",
      "source": [
        "import pandas as pd\n",
        "from sklearn.model_selection import train_test_split\n",
        "from sklearn.svm import SVC\n",
        "from sklearn.metrics import accuracy_score, classification_report, confusion_matrix\n",
        "\n",
        "# Load your dataset (assuming you have a CSV file with 'text' and 'label' columns)\n",
        "# Replace 'your_dataset.csv' with the actual file path or URL of your dataset.\n",
        "df = pd.read_csv('/content/Updated_Emails.csv')\n",
        "\n",
        "# Split the dataset into training and testing sets\n",
        "X_train, X_test, y_train, y_test = train_test_split(df.drop(columns =['Prediction','Email No.']), df['Prediction'], test_size=0.2, random_state=42)\n",
        "\n",
        "# Initialize and train the SVM classifier\n",
        "svm_classifier = SVC(kernel='linear')  # You can experiment with different kernels\n",
        "svm_classifier.fit(X_train, y_train)\n",
        "\n",
        "# Make predictions on the test set\n",
        "y_pred = svm_classifier.predict(X_test)\n",
        "\n",
        "# Evaluate the classifier\n",
        "accuracy = accuracy_score(y_test, y_pred)\n",
        "conf_matrix = confusion_matrix(y_test, y_pred)\n",
        "classification_rep = classification_report(y_test, y_pred)\n",
        "\n",
        "print(f\"Accuracy: {accuracy}\")\n",
        "print(\"Confusion Matrix:\\n\", conf_matrix)\n",
        "print(\"Classification Report:\\n\", classification_rep)\n"
      ],
      "metadata": {
        "colab": {
          "base_uri": "https://localhost:8080/"
        },
        "id": "hcwCWGRb9yI9",
        "outputId": "3b2c5257-a8a4-455e-aac1-ff1ff8e92e57"
      },
      "execution_count": null,
      "outputs": [
        {
          "output_type": "stream",
          "name": "stdout",
          "text": [
            "Accuracy: 0.9541284403669725\n",
            "Confusion Matrix:\n",
            " [[ 21   6]\n",
            " [  9 291]]\n",
            "Classification Report:\n",
            "               precision    recall  f1-score   support\n",
            "\n",
            "           0       0.70      0.78      0.74        27\n",
            "           1       0.98      0.97      0.97       300\n",
            "\n",
            "    accuracy                           0.95       327\n",
            "   macro avg       0.84      0.87      0.86       327\n",
            "weighted avg       0.96      0.95      0.96       327\n",
            "\n"
          ]
        }
      ]
    },
    {
      "cell_type": "markdown",
      "source": [
        "## Experiment 9\n",
        "## Classify the given text segment as ‘Positive’ or ‘Negative’ statement using the Naive Bayes Classifier.\n",
        "\n",
        "## **Naive Bayes Classifier**\n",
        "\n",
        "## Overview\n",
        "\n",
        "The Naive Bayes Classifier is a probabilistic machine learning algorithm based on Bayes' theorem. It is widely used for classification tasks and is particularly effective for text classification and spam filtering. Naive Bayes assumes that features are conditionally independent, given the class label.\n",
        "\n",
        "## Key Concepts\n",
        "\n",
        "- **Bayes' Theorem:** The fundamental principle behind Naive Bayes, which calculates the probability of a hypothesis given the observed evidence.\n",
        "\n",
        "- **Conditional Independence:** The \"naive\" assumption that features are independent of each other given the class label. While this assumption is often violated in practice, Naive Bayes can still perform well.\n",
        "\n",
        "- **Formula:**\n",
        "\n",
        "   ### Naive Bayes Classifier Formula\n",
        "\n",
        "   For binary classification:\n",
        "\n",
        "   P(Class = c_k | Features = x) = ( P(x | c_k) * P(c_k) ) / ( P(x | c_1) * P(c_1) + P(x | c_2) * P(c_2) )\n",
        "\n",
        "   Where:\n",
        "   - P(Class = c_k | Features = x) is the posterior probability of class c_k given the features x.\n",
        "   - P(x | c_k) is the likelihood of the features x given class c_k.\n",
        "   - P(c_k) is the prior probability of class c_k.\n",
        "   - P(x) is the probability of the features x.\n",
        "\n",
        "\n",
        "\n",
        "## Applications\n",
        "\n",
        "- **Text Classification:** Naive Bayes is frequently used for spam detection, sentiment analysis, and topic categorization in natural language processing tasks.\n",
        "\n",
        "- **Medical Diagnosis:** It has applications in medical diagnosis, such as predicting the likelihood of a disease based on symptoms.\n",
        "\n",
        "- **Recommendation Systems:** Naive Bayes can be used in recommendation systems to predict user preferences.\n",
        "\n"
      ],
      "metadata": {
        "id": "xcJ7fmXnD9_r"
      }
    },
    {
      "cell_type": "markdown",
      "source": [
        "## **Explanation of The Code:**\n",
        "\n",
        "### 1. Importing NLTK and Downloading Dataset\n",
        "```python\n",
        "import nltk\n",
        "nltk.download('movie_reviews')\n",
        "```\n",
        "**Explanation:**\n",
        "- The code imports the Natural Language Toolkit (NLTK) library.\n",
        "- It then downloads the \"movie_reviews\" dataset, which is a part of the NLTK corpus containing movie reviews labeled as positive or negative.\n",
        "\n",
        "### 2. Loading Movie Reviews Dataset\n",
        "```python\n",
        "from nltk.corpus import movie_reviews\n",
        "```\n",
        "**Explanation:**\n",
        "- This line imports the \"movie_reviews\" corpus from NLTK, which contains positive and negative movie reviews.\n",
        "\n",
        "### 3. Creating Feature Sets\n",
        "```python\n",
        "positive_ids = movie_reviews.fileids('pos')\n",
        "negative_ids = movie_reviews.fileids('neg')\n",
        "\n",
        "positive_features = [(dict([(word, True) for word in movie_reviews.words(fileids=[f])]), 'Positive') for f in positive_ids]\n",
        "negative_features = [(dict([(word, True) for word in movie_reviews.words(fileids=[f])]), 'Negative') for f in negative_ids]\n",
        "```\n",
        "**Explanation:**\n",
        "- The positive and negative movie reviews are loaded using their file IDs.\n",
        "- Feature sets are created for each review, where each feature is a word in the review, and the label is either 'Positive' or 'Negative'.\n",
        "- The features are represented as dictionaries where each word is marked as 'True'.\n",
        "\n",
        "### 4. Splitting into Training and Test Sets\n",
        "```python\n",
        "split = 800\n",
        "train_features = positive_features[:split] + negative_features[:split]\n",
        "test_features = positive_features[split:] + negative_features[split:]\n",
        "```\n",
        "**Explanation:**\n",
        "- The dataset is split into training and test sets. In this case, the first 800 reviews are used for training, and the remaining reviews are used for testing.\n",
        "\n",
        "### 5. Training Naive Bayes Classifier\n",
        "```python\n",
        "classifier = NaiveBayesClassifier.train(train_features)\n",
        "```\n",
        "**Explanation:**\n",
        "- A Naive Bayes classifier is created and trained using the `NaiveBayesClassifier` class from NLTK. It is trained on the positive and negative feature sets.\n",
        "\n",
        "### 6. Testing the Classifier\n",
        "```python\n",
        "print(\"Accuracy of the Naive Bayes Classifier Model is: \", accuracy(classifier, test_features)*100)\n",
        "```\n",
        "**Explanation:**\n",
        "- The trained classifier is tested on the test set, and the accuracy of the model is printed.\n",
        "- The `accuracy` function from `nltk.classify.util` is used to calculate the accuracy of the classifier on the test set.\n",
        "\n",
        "### Summary:\n",
        "This code demonstrates the use of NLTK to create a Naive Bayes classifier for sentiment analysis on a movie reviews dataset. The reviews are represented as feature sets, and the classifier is trained and evaluated on a subset of the data. The accuracy of the model on the test set is then printed."
      ],
      "metadata": {
        "id": "yfukxEzBfBXS"
      }
    },
    {
      "cell_type": "code",
      "source": [
        "import nltk\n",
        "nltk.download('movie_reviews')\n",
        "from nltk.corpus import movie_reviews\n",
        "from nltk.classify import NaiveBayesClassifier\n",
        "from nltk.classify.util import accuracy\n",
        "\n",
        "# Load the movie reviews dataset\n",
        "positive_ids = movie_reviews.fileids('pos')\n",
        "negative_ids = movie_reviews.fileids('neg')\n",
        "\n",
        "# Create the feature sets\n",
        "positive_features = [(dict([(word, True) for word in movie_reviews.words(fileids=[f])]), 'Positive') for f in positive_ids]\n",
        "negative_features = [(dict([(word, True) for word in movie_reviews.words(fileids=[f])]), 'Negative') for f in negative_ids]\n",
        "\n",
        "# Split into training and test sets\n",
        "split = 800\n",
        "train_features = positive_features[:split] + negative_features[:split]\n",
        "test_features = positive_features[split:] + negative_features[split:]\n",
        "\n",
        "# Train a Naive Bayes classifier\n",
        "classifier = NaiveBayesClassifier.train(train_features)\n",
        "\n",
        "# Test the classifier on the test set\n",
        "print(\"Accuracy of the Naive Bayes Classifier Model is: \", accuracy(classifier, test_features)*100)"
      ],
      "metadata": {
        "colab": {
          "base_uri": "https://localhost:8080/"
        },
        "id": "xzI5sO04AYC1",
        "outputId": "d2789011-a86c-4e69-b18b-c75fe6bd40b9"
      },
      "execution_count": null,
      "outputs": [
        {
          "output_type": "stream",
          "name": "stderr",
          "text": [
            "[nltk_data] Downloading package movie_reviews to /root/nltk_data...\n",
            "[nltk_data]   Package movie_reviews is already up-to-date!\n"
          ]
        },
        {
          "output_type": "stream",
          "name": "stdout",
          "text": [
            "Accuracy of the Naive Bayes Classifier Model is:  73.5\n"
          ]
        }
      ]
    },
    {
      "cell_type": "markdown",
      "source": [
        "## Experiment 10\n",
        "## Predict Future Stock Price of a Company using Monte Carlo Simulation.\n",
        "\n",
        "## Monte Carlo Simulation\n",
        "\n",
        "## Overview\n",
        "\n",
        "Monte Carlo Simulation is a powerful computational technique used to model and analyze complex systems or problems by generating a large number of random samples. It provides a statistical approach to estimate outcomes, assess risks, and make decisions under uncertainty.\n",
        "\n",
        "## Key Concepts\n",
        "\n",
        "- **Random Sampling:** Monte Carlo simulations involve drawing random samples from probability distributions to model uncertainty in input variables.\n",
        "\n",
        "- **Statistical Analysis:** The simulation generates a large number of scenarios, and statistical methods are applied to analyze the distribution of outcomes.\n",
        "\n",
        "- **Formula:**\n",
        "  Monte Carlo Estimation Formula:\n",
        "  \n",
        "  E(X) ≈ (1/N) * Σ f(x_i)\n",
        "\n",
        "  Where:\n",
        "  - E(X) is the expected value of the variable of interest.\n",
        "  - N is the number of simulations.\n",
        "  - Σ represents the summation symbol.\n",
        "  - f(x_i) is the value of the function or metric of interest for the i-th simulation.\n",
        "\n",
        "## Applications\n",
        "\n",
        "Monte Carlo Simulation finds applications in various fields, including:\n",
        "\n",
        "- Finance: Assessing investment risks and portfolio optimization.\n",
        "- Engineering: Analyzing structural reliability and system performance.\n",
        "- Operations Research: Optimizing resource allocation and scheduling.\n",
        "- Project Management: Estimating project completion times and costs.\n",
        "\n",
        "## Usage\n",
        "\n",
        "1. **Define the Problem:**\n",
        "   Identify the problem or system you want to model and define the key parameters and variables involved.\n",
        "\n",
        "2. **Define Probability Distributions:**\n",
        "   Specify the probability distributions of input variables, representing the uncertainty in those variables.\n",
        "\n",
        "3. **Generate Random Samples:**\n",
        "   Use a random number generator to draw a large number of random samples from the specified distributions.\n",
        "\n",
        "4. **Run Simulations:**\n",
        "   For each set of random samples, run the simulation model or algorithm to calculate the corresponding outcomes.\n",
        "\n",
        "5. **Analyze Results:**\n",
        "   Conduct statistical analysis on the generated outcomes to understand the distribution, mean, and variance of the results.\n",
        "\n"
      ],
      "metadata": {
        "id": "2S7Egp_5EFaw"
      }
    },
    {
      "cell_type": "markdown",
      "source": [
        "## Explanation Of The Code:\n",
        "\n",
        "### 1. Importing Libraries\n",
        "```python\n",
        "import numpy as np\n",
        "import matplotlib.pyplot as plt\n",
        "import pandas as pd\n",
        "from pandas_datareader import data as pdr\n",
        "import yfinance as yf\n",
        "yf.pdr_override()\n",
        "```\n",
        "**Explanation:**\n",
        "- `numpy (np)`: Library for numerical operations and array manipulation.\n",
        "- `matplotlib.pyplot (plt)`: Library for data visualization.\n",
        "- `pandas (pd)`: Library for data manipulation and analysis.\n",
        "- `pandas_datareader (pdr)`: Module for extracting financial data from various online sources.\n",
        "- `yfinance (yf)`: Module for downloading financial data using Yahoo Finance.\n",
        "\n",
        "### 2. Download Historical Data\n",
        "```python\n",
        "df = pdr.get_data_yahoo(\"AAPL\", start=\"2020-01-01\", end=\"2022-12-31\")\n",
        "```\n",
        "**Explanation:**\n",
        "- Retrieves historical stock data for Apple Inc. (\"AAPL\") from Yahoo Finance using the specified date range.\n",
        "  - ### AAPL\n",
        "    AAPL is the stock ticker symbol for Apple Inc., a multinational technology company known for designing, manufacturing, and marketing a range of consumer electronics, software, and services. Apple is one of the world's largest and most valuable technology companies, with a significant presence in the global tech industry. The AAPL ticker symbol is used to uniquely identify Apple's stock on financial markets, and it is commonly used by investors, traders, and financial analysts to track Apple's stock performance.\n",
        "    \n",
        "- The data is stored in a Pandas DataFrame (`df`).\n",
        "\n",
        "### 3. Calculate CAGR and Volatility\n",
        "```python\n",
        "days = (df.index[-1] - df.index[0]).days\n",
        "cagr = ((((df['Adj Close'][-1]) / df['Adj Close'][1])) ** (365.0/days)) - 1\n",
        "df['Returns'] = df['Adj Close'].pct_change()\n",
        "vol = df['Returns'].std() * np.sqrt(252)\n",
        "```\n",
        "**Explanation:**\n",
        "- Calculates the number of days in the dataset (`days`).\n",
        "- Computes the Compound Annual Growth Rate (CAGR) and the annual volatility of returns (`vol`) using the adjusted closing prices.\n",
        "\n",
        "### 4. Define Monte Carlo Method\n",
        "```python\n",
        "def monte_carlo(start_price, days, cagr, vol):\n",
        "    price = np.zeros(days)\n",
        "    price[0] = start_price\n",
        "    shock = np.zeros(days)\n",
        "    drift = np.zeros(days)\n",
        "\n",
        "    for x in range(1, days):\n",
        "        shock[x] = np.random.normal(loc=0, scale=vol)\n",
        "        drift[x] = cagr\n",
        "        price[x] = price[x-1] + (price[x-1] * (drift[x] + shock[x]))\n",
        "    return price\n",
        "```\n",
        "**Explanation:**\n",
        "- Defines a function `monte_carlo` to simulate stock price movements using the Monte Carlo method.\n",
        "- `start_price`: Initial stock price.\n",
        "- `days`: Number of days to simulate.\n",
        "- `cagr`: Compound Annual Growth Rate.\n",
        "- `vol`: Volatility.\n",
        "\n",
        "### 5. Run Monte Carlo Simulation\n",
        "```python\n",
        "runs = 100\n",
        "simulations = np.zeros(runs)\n",
        "\n",
        "for run in range(runs):\n",
        "    simulations[run] = monte_carlo(df['Adj Close'][-1], 252, cagr, vol)[251]\n",
        "```\n",
        "**Explanation:**\n",
        "- Runs the Monte Carlo simulation 100 times (`runs`).\n",
        "- Stores the final simulated stock prices in the `simulations` array.\n",
        "\n",
        "### 6. Plot the Results\n",
        "```python\n",
        "plt.hist(simulations, bins=10, density=True)\n",
        "\n",
        "# Add title and labels\n",
        "plt.title('Monte Carlo Simulation Results for AAPL')\n",
        "plt.xlabel('Final Price')\n",
        "plt.ylabel('Frequency')\n",
        "\n",
        "plt.show()\n",
        "```\n",
        "**Explanation:**\n",
        "- Plots a histogram of the simulated final stock prices.\n",
        "- `bins=10` specifies the number of bins in the histogram.\n",
        "- Adds title and labels to the plot.\n",
        "- Displays the plot.\n",
        "\n",
        "### Summary:\n",
        "The code performs a Monte Carlo simulation to estimate the distribution of possible future stock prices for Apple Inc. The simulation is based on historical stock data, and the results are visualized using a histogram. The simulation considers randomness in stock price movements through normal distribution shocks and incorporates historical trends in the form of CAGR. The final histogram provides insights into the range of potential outcomes based on the specified parameters."
      ],
      "metadata": {
        "id": "Hqc1YDaEfydI"
      }
    },
    {
      "cell_type": "code",
      "source": [
        "import numpy as np\n",
        "import matplotlib.pyplot as plt\n",
        "import pandas as pd\n",
        "from pandas_datareader import data as pdr\n",
        "import yfinance as yf\n",
        "yf.pdr_override()\n",
        "\n",
        "# Download historical data as dataframe\n",
        "df = pdr.get_data_yahoo(\"AAPL\", start=\"2020-01-01\", end=\"2022-12-31\")\n",
        "\n",
        "# Calculate the compound annual growth rate (CAGR)\n",
        "days = (df.index[-1] - df.index[0]).days\n",
        "cagr = ((((df['Adj Close'][-1]) / df['Adj Close'][1])) ** (365.0/days)) - 1\n",
        "\n",
        "# Calculate the annual volatility of returns\n",
        "df['Returns'] = df['Adj Close'].pct_change()\n",
        "vol = df['Returns'].std()*np.sqrt(252)\n",
        "\n",
        "# Define the Monte Carlo method\n",
        "def monte_carlo(start_price, days, cagr, vol):\n",
        "    price = np.zeros(days)\n",
        "    price[0] = start_price\n",
        "    shock = np.zeros(days)\n",
        "    drift = np.zeros(days)\n",
        "\n",
        "    for x in range(1, days):\n",
        "        shock[x] = np.random.normal(loc=0, scale=vol)\n",
        "        drift[x] = cagr\n",
        "        price[x] = price[x-1] + (price[x-1] * (drift[x] + shock[x]))\n",
        "    return price\n",
        "\n",
        "# Run the Monte Carlo simulation 100 times\n",
        "runs = 100\n",
        "simulations = np.zeros(runs)\n",
        "\n",
        "for run in range(runs):\n",
        "    simulations[run] = monte_carlo(df['Adj Close'][-1], 252, cagr, vol)[251]\n",
        "\n",
        "# Plot the results\n",
        "plt.hist(simulations, bins=10, density=True)\n",
        "\n",
        "# Add title and labels\n",
        "plt.title('Monte Carlo Simulation Results for AAPL')\n",
        "plt.xlabel('Final Price')\n",
        "plt.ylabel('Frequency')\n",
        "\n",
        "plt.show()"
      ],
      "metadata": {
        "colab": {
          "base_uri": "https://localhost:8080/",
          "height": 489
        },
        "id": "xaRGN3kFBUPy",
        "outputId": "ab1784c7-54f6-4642-f6dd-d5b3a8dff5b2"
      },
      "execution_count": 4,
      "outputs": [
        {
          "output_type": "stream",
          "name": "stdout",
          "text": [
            "\r[*********************100%%**********************]  1 of 1 completed\n"
          ]
        },
        {
          "output_type": "display_data",
          "data": {
            "text/plain": [
              "<Figure size 640x480 with 1 Axes>"
            ],
            "image/png": "[encoded data removed]"
          },
          "metadata": {}
        }
      ]
    },
    {
      "cell_type": "code",
      "source": [],
      "metadata": {
        "id": "klRW294OBx9d"
      },
      "execution_count": null,
      "outputs": []
    }
  ]
}